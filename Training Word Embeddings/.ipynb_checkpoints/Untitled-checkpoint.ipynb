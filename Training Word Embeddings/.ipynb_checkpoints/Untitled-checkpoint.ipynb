{
 "cells": [
  {
   "cell_type": "markdown",
   "id": "e80fcd5c-acaf-4293-9502-46162c4af1a0",
   "metadata": {},
   "source": [
    "## File Opening and Filtering"
   ]
  },
  {
   "cell_type": "code",
   "execution_count": 13,
   "id": "3b24decd-292f-4969-b157-07eb0f705c12",
   "metadata": {},
   "outputs": [
    {
     "data": {
      "text/plain": [
       "['The future king is the prince\\n',\n",
       " 'Daughter is the princess\\n',\n",
       " 'Son is the prince\\n',\n",
       " 'Only a man can be a king\\n',\n",
       " 'Only a woman can be a queen\\n',\n",
       " 'The princess will be a queen\\n',\n",
       " 'The prince is a strong man\\n',\n",
       " 'The princess is a beautiful woman\\n',\n",
       " 'Prince is only a boy now\\n',\n",
       " 'Prince will be king\\n',\n",
       " 'A boy will be a man']"
      ]
     },
     "execution_count": 13,
     "metadata": {},
     "output_type": "execute_result"
    }
   ],
   "source": [
    "file = open(\"Royal_data.txt\",'r')\n",
    "file_data = file.readlines()\n",
    "file.close()\n",
    "file_data"
   ]
  },
  {
   "cell_type": "code",
   "execution_count": 14,
   "id": "a243d93e-c139-4be2-b252-57d9de1e9285",
   "metadata": {},
   "outputs": [
    {
     "data": {
      "text/plain": [
       "['the future king is the prince',\n",
       " 'daughter is the princess',\n",
       " 'son is the prince',\n",
       " 'only a man can be a king',\n",
       " 'only a woman can be a queen',\n",
       " 'the princess will be a queen',\n",
       " 'the prince is a strong man',\n",
       " 'the princess is a beautiful woman',\n",
       " 'prince is only a boy now',\n",
       " 'prince will be king',\n",
       " 'a boy will be a man']"
      ]
     },
     "execution_count": 14,
     "metadata": {},
     "output_type": "execute_result"
    }
   ],
   "source": [
    "data = []\n",
    "for i in file_data:\n",
    "    data.append(i.lower().replace(\"\\n\",\"\"))\n",
    "data"
   ]
  },
  {
   "cell_type": "code",
   "execution_count": 21,
   "id": "cd4ed363-707f-4800-b4e0-dcfeac0f166b",
   "metadata": {},
   "outputs": [
    {
     "name": "stdout",
     "output_type": "stream",
     "text": [
      "[['future', 'king', 'prince'], ['daughter', 'princess'], ['son', 'prince'], ['man', 'king'], ['woman', 'queen'], ['princess', 'queen'], ['prince', 'strong', 'man'], ['princess', 'beautiful', 'woman'], ['prince', 'boy'], ['prince', 'king'], ['boy', 'man']]\n"
     ]
    }
   ],
   "source": [
    "filtered_data = []\n",
    "for sent in data:\n",
    "    temp = []\n",
    "    for word in sent.split():\n",
    "        if word not in stopwords:\n",
    "            temp.append(word)\n",
    "    filtered_data.append(temp)\n",
    "\n",
    "print(filtered_data)"
   ]
  },
  {
   "cell_type": "markdown",
   "id": "cd4a22da-2773-4f3c-a948-de5335a7eeae",
   "metadata": {},
   "source": [
    "## Creating Bigrams"
   ]
  },
  {
   "cell_type": "code",
   "execution_count": 24,
   "id": "8f3c6440-3e0b-4244-9565-bb1335ca7211",
   "metadata": {},
   "outputs": [
    {
     "name": "stdout",
     "output_type": "stream",
     "text": [
      "[['future', 'king'], ['king', 'future'], ['future', 'prince'], ['prince', 'future'], ['king', 'prince'], ['prince', 'king'], ['daughter', 'princess'], ['princess', 'daughter'], ['son', 'prince'], ['prince', 'son'], ['man', 'king'], ['king', 'man'], ['woman', 'queen'], ['queen', 'woman'], ['princess', 'queen'], ['queen', 'princess'], ['prince', 'strong'], ['strong', 'prince'], ['prince', 'man'], ['man', 'prince'], ['strong', 'man'], ['man', 'strong'], ['princess', 'beautiful'], ['beautiful', 'princess'], ['princess', 'woman'], ['woman', 'princess'], ['beautiful', 'woman'], ['woman', 'beautiful'], ['prince', 'boy'], ['boy', 'prince'], ['prince', 'king'], ['king', 'prince'], ['boy', 'man'], ['man', 'boy']]\n"
     ]
    }
   ],
   "source": [
    "bigrams = []\n",
    "for words_list in filtered_data:\n",
    "    for i in range(len(words_list) - 1):\n",
    "        for j in range(i+1, len(words_list)):\n",
    "            bigrams.append([words_list[i], words_list[j]])\n",
    "            bigrams.append([words_list[j], words_list[i]])\n",
    "            \n",
    "print(bigrams)"
   ]
  },
  {
   "cell_type": "code",
   "execution_count": 27,
   "id": "70f10a67-74d7-420b-b248-55ba43f95684",
   "metadata": {},
   "outputs": [
    {
     "name": "stdout",
     "output_type": "stream",
     "text": [
      "['beautiful', 'boy', 'daughter', 'future', 'king', 'man', 'prince', 'princess', 'queen', 'son', 'strong', 'woman']\n",
      "Total number of unique words are: 12\n"
     ]
    }
   ],
   "source": [
    "all_words = []\n",
    "for bi in bigrams:\n",
    "    all_words.extend(bi)\n",
    "\n",
    "all_words = list(set(all_words))\n",
    "all_words.sort()\n",
    "print(all_words)\n",
    "\n",
    "print(\"Total number of unique words are:\", len(all_words))"
   ]
  },
  {
   "cell_type": "code",
   "execution_count": 28,
   "id": "7390dd8a-cea0-4dc4-b964-d8527453bd42",
   "metadata": {},
   "outputs": [
    {
     "name": "stdout",
     "output_type": "stream",
     "text": [
      "{'beautiful': 0, 'boy': 1, 'daughter': 2, 'future': 3, 'king': 4, 'man': 5, 'prince': 6, 'princess': 7, 'queen': 8, 'son': 9, 'strong': 10, 'woman': 11}\n"
     ]
    }
   ],
   "source": [
    "words_dict = {}\n",
    "\n",
    "counter = 0\n",
    "for word in all_words:\n",
    "    words_dict[word] = counter\n",
    "    counter += 1\n",
    "\n",
    "print(words_dict)"
   ]
  },
  {
   "cell_type": "markdown",
   "id": "5a6141ac-4df5-4972-9380-1f7458ea5909",
   "metadata": {},
   "source": [
    "## Perform One Hot Encoding\n"
   ]
  },
  {
   "cell_type": "code",
   "execution_count": 31,
   "id": "afabc8fc-3b68-4a40-939c-58150a5dfe48",
   "metadata": {},
   "outputs": [
    {
     "data": {
      "text/plain": [
       "array([[0., 0., 0., 0., 0., 0., 0., 0., 0., 0., 0., 0.],\n",
       "       [0., 0., 0., 0., 0., 0., 0., 0., 0., 0., 0., 0.],\n",
       "       [0., 0., 0., 0., 0., 0., 0., 0., 0., 0., 0., 0.],\n",
       "       [0., 0., 0., 0., 0., 0., 0., 0., 0., 0., 0., 0.],\n",
       "       [0., 0., 0., 0., 0., 0., 0., 0., 0., 0., 0., 0.],\n",
       "       [0., 0., 0., 0., 0., 0., 0., 0., 0., 0., 0., 0.],\n",
       "       [0., 0., 0., 0., 0., 0., 0., 0., 0., 0., 0., 0.],\n",
       "       [0., 0., 0., 0., 0., 0., 0., 0., 0., 0., 0., 0.],\n",
       "       [0., 0., 0., 0., 0., 0., 0., 0., 0., 0., 0., 0.],\n",
       "       [0., 0., 0., 0., 0., 0., 0., 0., 0., 0., 0., 0.],\n",
       "       [0., 0., 0., 0., 0., 0., 0., 0., 0., 0., 0., 0.],\n",
       "       [0., 0., 0., 0., 0., 0., 0., 0., 0., 0., 0., 0.]])"
      ]
     },
     "execution_count": 31,
     "metadata": {},
     "output_type": "execute_result"
    }
   ],
   "source": [
    "import numpy as np\n",
    "one_hot_enc = np.zeros((len(all_words),len(all_words)))\n",
    "one_hot_enc"
   ]
  },
  {
   "cell_type": "code",
   "execution_count": 35,
   "id": "f47059b1-19fa-4cf5-8126-882708618f74",
   "metadata": {},
   "outputs": [
    {
     "name": "stdout",
     "output_type": "stream",
     "text": [
      "beautiful : [1. 0. 0. 0. 0. 0. 0. 0. 0. 0. 0. 0.]\n",
      "boy : [0. 1. 0. 0. 0. 0. 0. 0. 0. 0. 0. 0.]\n",
      "daughter : [0. 0. 1. 0. 0. 0. 0. 0. 0. 0. 0. 0.]\n",
      "future : [0. 0. 0. 1. 0. 0. 0. 0. 0. 0. 0. 0.]\n",
      "king : [0. 0. 0. 0. 1. 0. 0. 0. 0. 0. 0. 0.]\n",
      "man : [0. 0. 0. 0. 0. 1. 0. 0. 0. 0. 0. 0.]\n",
      "prince : [0. 0. 0. 0. 0. 0. 1. 0. 0. 0. 0. 0.]\n",
      "princess : [0. 0. 0. 0. 0. 0. 0. 1. 0. 0. 0. 0.]\n",
      "queen : [0. 0. 0. 0. 0. 0. 0. 0. 1. 0. 0. 0.]\n",
      "son : [0. 0. 0. 0. 0. 0. 0. 0. 0. 1. 0. 0.]\n",
      "strong : [0. 0. 0. 0. 0. 0. 0. 0. 0. 0. 1. 0.]\n",
      "woman : [0. 0. 0. 0. 0. 0. 0. 0. 0. 0. 0. 1.]\n"
     ]
    }
   ],
   "source": [
    "for i in range(len(one_hot_enc)):\n",
    "    for j in range(len(one_hot_enc)):\n",
    "        if i == j:\n",
    "            one_hot_enc[i][j] =1\n",
    "            break\n",
    "onehot_dict = {}\n",
    "counter = 0\n",
    "for word in all_words:\n",
    "    onehot_dict[word] = one_hot_enc[counter]\n",
    "    counter += 1\n",
    "\n",
    "for word in onehot_dict:\n",
    "    print(word, \":\", onehot_dict[word])"
   ]
  },
  {
   "cell_type": "code",
   "execution_count": 36,
   "id": "6e9b459e-348a-4e0f-9336-fbdb146afc1e",
   "metadata": {},
   "outputs": [],
   "source": [
    "X = []\n",
    "Y = []\n",
    "\n",
    "for bi in bigrams:\n",
    "    X.append(onehot_dict[bi[0]])\n",
    "    Y.append(onehot_dict[bi[1]])\n",
    "    \n",
    "X = np.array(X)\n",
    "Y = np.array(Y)"
   ]
  },
  {
   "cell_type": "markdown",
   "id": "6350d08b-e0a0-4050-bd80-8a05bbf43354",
   "metadata": {},
   "source": [
    "## Creating Model"
   ]
  },
  {
   "cell_type": "code",
   "execution_count": 39,
   "id": "10df7922-e48a-44c3-8f94-ab540f8454d9",
   "metadata": {},
   "outputs": [],
   "source": [
    "\n",
    "from keras.models import Sequential\n",
    "from keras.layers import Dense\n",
    "\n",
    "embed_size = 2\n",
    "\n",
    "model = Sequential([\n",
    "    Dense(embed_size, activation='linear'),\n",
    "    Dense(Y.shape[1], activation = 'softmax')\n",
    "])\n",
    "\n",
    "model.compile(loss = 'categorical_crossentropy', optimizer = 'adam')"
   ]
  },
  {
   "cell_type": "code",
   "execution_count": 40,
   "id": "f3e280e9-e930-4f89-9c77-dc1db348a73c",
   "metadata": {},
   "outputs": [
    {
     "data": {
      "text/plain": [
       "<keras.src.callbacks.history.History at 0x16e56f9d0>"
      ]
     },
     "execution_count": 40,
     "metadata": {},
     "output_type": "execute_result"
    }
   ],
   "source": [
    "model.fit(X, Y, epochs = 100, batch_size = 256, verbose = False)"
   ]
  },
  {
   "cell_type": "code",
   "execution_count": 41,
   "id": "b2d693e9-d853-43f6-95ec-7d55fe22e54f",
   "metadata": {},
   "outputs": [],
   "source": [
    "weights = model.get_weights()[0]\n",
    "\n",
    "word_embeddings = {}\n",
    "for word in all_words:\n",
    "    word_embeddings[word] = weights[words_dict[word]]"
   ]
  },
  {
   "cell_type": "code",
   "execution_count": 42,
   "id": "094f6c33-5958-4609-89ee-893709e46520",
   "metadata": {},
   "outputs": [
    {
     "data": {
      "image/png": "[encoded data removed]",
      "text/plain": [
       "<Figure size 640x480 with 1 Axes>"
      ]
     },
     "metadata": {},
     "output_type": "display_data"
    }
   ],
   "source": [
    "import matplotlib.pyplot as plt\n",
    "for word in list(words_dict.keys()):\n",
    "    coord = word_embeddings.get(word)\n",
    "    plt.scatter(coord[0], coord[1])\n",
    "    plt.annotate(word, (coord[0], coord[1]))"
   ]
  },
  {
   "cell_type": "code",
   "execution_count": null,
   "id": "c31316c7-8219-4721-b382-40340be0ec9f",
   "metadata": {},
   "outputs": [],
   "source": []
  }
 ],
 "metadata": {
  "kernelspec": {
   "display_name": "Python 3 (ipykernel)",
   "language": "python",
   "name": "python3"
  },
  "language_info": {
   "codemirror_mode": {
    "name": "ipython",
    "version": 3
   },
   "file_extension": ".py",
   "mimetype": "text/x-python",
   "name": "python",
   "nbconvert_exporter": "python",
   "pygments_lexer": "ipython3",
   "version": "3.11.7"
  }
 },
 "nbformat": 4,
 "nbformat_minor": 5
}
